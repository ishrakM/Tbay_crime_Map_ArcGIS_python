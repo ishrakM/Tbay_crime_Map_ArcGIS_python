{
  "nbformat": 4,
  "nbformat_minor": 0,
  "metadata": {
    "colab": {
      "provenance": []
    },
    "kernelspec": {
      "name": "python3",
      "display_name": "Python 3"
    },
    "language_info": {
      "name": "python"
    }
  },
  "cells": [
    {
      "cell_type": "code",
      "execution_count": 1,
      "metadata": {
        "id": "W7yuPBIZq2Dm"
      },
      "outputs": [],
      "source": [
        "import pandas as pd"
      ]
    },
    {
      "cell_type": "code",
      "source": [
        "geo_postal = pd.read_csv('/content/drive/MyDrive/GIS_police_Tbay/CanadianPostalCodes202403.csv', on_bad_lines='skip')\n",
        "data_file = pd.read_csv('/content/drive/MyDrive/GIS_police_Tbay/Jan_Mar_2024_Thunder_Bay_Police_Service_report.csv')"
      ],
      "metadata": {
        "id": "lO6-gVVoPmph"
      },
      "execution_count": 2,
      "outputs": []
    },
    {
      "cell_type": "code",
      "source": [
        "geo_postal.info()"
      ],
      "metadata": {
        "colab": {
          "base_uri": "https://localhost:8080/"
        },
        "id": "9juNjVbrhxDc",
        "outputId": "fb5d061f-1872-4b18-b105-3c7925cb2a6b"
      },
      "execution_count": 3,
      "outputs": [
        {
          "output_type": "stream",
          "name": "stdout",
          "text": [
            "<class 'pandas.core.frame.DataFrame'>\n",
            "RangeIndex: 900684 entries, 0 to 900683\n",
            "Data columns (total 6 columns):\n",
            " #   Column         Non-Null Count   Dtype  \n",
            "---  ------         --------------   -----  \n",
            " 0   POSTAL_CODE    900684 non-null  object \n",
            " 1   CITY           900684 non-null  object \n",
            " 2   PROVINCE_ABBR  900684 non-null  object \n",
            " 3   TIME_ZONE      900684 non-null  int64  \n",
            " 4   LATITUDE       900684 non-null  float64\n",
            " 5   LONGITUDE      900684 non-null  float64\n",
            "dtypes: float64(2), int64(1), object(3)\n",
            "memory usage: 41.2+ MB\n"
          ]
        }
      ]
    },
    {
      "cell_type": "code",
      "source": [
        "data_file = data_file.rename(columns={'postalCode': 'POSTAL_CODE'})\n",
        "data_file.info()"
      ],
      "metadata": {
        "colab": {
          "base_uri": "https://localhost:8080/"
        },
        "id": "aUpQfiNMe07z",
        "outputId": "ec4f0629-8d5f-4620-deea-86d8c69d86fe"
      },
      "execution_count": 4,
      "outputs": [
        {
          "output_type": "stream",
          "name": "stdout",
          "text": [
            "<class 'pandas.core.frame.DataFrame'>\n",
            "RangeIndex: 10050 entries, 0 to 10049\n",
            "Data columns (total 11 columns):\n",
            " #   Column              Non-Null Count  Dtype \n",
            "---  ------              --------------  ----- \n",
            " 0   ccn                 10050 non-null  object\n",
            " 1   date                10050 non-null  object\n",
            " 2   updateDate          10050 non-null  object\n",
            " 3   blocksizedAddress   10050 non-null  object\n",
            " 4   city                10050 non-null  object\n",
            " 5   state               10050 non-null  object\n",
            " 6   POSTAL_CODE         10050 non-null  object\n",
            " 7   Country             10050 non-null  object\n",
            " 8   incidentType        10050 non-null  object\n",
            " 9   parentIncidentType  10050 non-null  object\n",
            " 10  narrative           10050 non-null  object\n",
            "dtypes: object(11)\n",
            "memory usage: 863.8+ KB\n"
          ]
        }
      ]
    },
    {
      "cell_type": "code",
      "source": [
        "merged_df = data_file.merge(geo_postal, on='POSTAL_CODE', how='left')"
      ],
      "metadata": {
        "id": "pML8m_GLiPpt"
      },
      "execution_count": 5,
      "outputs": []
    },
    {
      "cell_type": "code",
      "source": [
        "merged_df.info()"
      ],
      "metadata": {
        "colab": {
          "base_uri": "https://localhost:8080/"
        },
        "id": "IjfF3Sdcl9vv",
        "outputId": "c3b066d2-9f50-4d2a-d37f-cfe30c520f06"
      },
      "execution_count": 6,
      "outputs": [
        {
          "output_type": "stream",
          "name": "stdout",
          "text": [
            "<class 'pandas.core.frame.DataFrame'>\n",
            "RangeIndex: 10060 entries, 0 to 10059\n",
            "Data columns (total 16 columns):\n",
            " #   Column              Non-Null Count  Dtype  \n",
            "---  ------              --------------  -----  \n",
            " 0   ccn                 10060 non-null  object \n",
            " 1   date                10060 non-null  object \n",
            " 2   updateDate          10060 non-null  object \n",
            " 3   blocksizedAddress   10060 non-null  object \n",
            " 4   city                10060 non-null  object \n",
            " 5   state               10060 non-null  object \n",
            " 6   POSTAL_CODE         10060 non-null  object \n",
            " 7   Country             10060 non-null  object \n",
            " 8   incidentType        10060 non-null  object \n",
            " 9   parentIncidentType  10060 non-null  object \n",
            " 10  narrative           10060 non-null  object \n",
            " 11  CITY                10038 non-null  object \n",
            " 12  PROVINCE_ABBR       10038 non-null  object \n",
            " 13  TIME_ZONE           10038 non-null  float64\n",
            " 14  LATITUDE            10038 non-null  float64\n",
            " 15  LONGITUDE           10038 non-null  float64\n",
            "dtypes: float64(3), object(13)\n",
            "memory usage: 1.2+ MB\n"
          ]
        }
      ]
    },
    {
      "cell_type": "code",
      "source": [
        "print(merged_df)"
      ],
      "metadata": {
        "colab": {
          "base_uri": "https://localhost:8080/"
        },
        "id": "CxqQAi50mFWy",
        "outputId": "ad6271b0-9ba4-40d3-cfd0-4caffdbfd08e"
      },
      "execution_count": 7,
      "outputs": [
        {
          "output_type": "stream",
          "name": "stdout",
          "text": [
            "              ccn                    date              updateDate  \\\n",
            "0      TB24000003  01/01/2024, 7:03:34 AM  01/01/2024, 2:02:29 PM   \n",
            "1      TB24000004  01/01/2024, 7:16:46 AM  01/03/2024, 2:02:33 PM   \n",
            "2      TB24000005  01/01/2024, 7:17:48 AM  01/01/2024, 2:02:29 PM   \n",
            "3      TB24000009  01/01/2024, 7:45:32 AM  01/01/2024, 2:02:29 PM   \n",
            "4      TB24000011  01/01/2024, 7:56:19 AM  01/01/2024, 2:02:29 PM   \n",
            "...           ...                     ...                     ...   \n",
            "10055  TB24012771  04/01/2024, 4:26:49 AM  04/01/2024, 1:04:43 PM   \n",
            "10056  TB24012773  04/01/2024, 5:21:30 AM  04/01/2024, 1:04:44 PM   \n",
            "10057  TB24012774  04/01/2024, 5:36:33 AM  04/01/2024, 1:04:44 PM   \n",
            "10058  TB24012775  04/01/2024, 6:11:49 AM  04/01/2024, 1:04:43 PM   \n",
            "10059  TB24012776  04/01/2024, 6:26:13 AM  04/01/2024, 1:04:43 PM   \n",
            "\n",
            "            blocksizedAddress         city state POSTAL_CODE Country  \\\n",
            "0      1200 Block BALMORAL ST  THUNDER BAY    ON     P7B 5Z5  Canada   \n",
            "1           1 Block MACHAR AV  THUNDER BAY    ON     P7B 2Y4  Canada   \n",
            "2       1100 Block LINCOLN ST  THUNDER BAY    ON     P7E 5V7  Canada   \n",
            "3       300 Block ADELAIDE ST  THUNDER BAY    ON     P7A 7X3  Canada   \n",
            "4      800 Block RED RIVER RD  THUNDER BAY    ON     P7B 1K3  Canada   \n",
            "...                       ...          ...   ...         ...     ...   \n",
            "10055    1000 Block OLIVER RD  THUNDER BAY    ON     P7B 7A5  Canada   \n",
            "10056    400 Block ARUNDEL ST  THUNDER BAY    ON     P7A 1L6  Canada   \n",
            "10057   2100 Block FREEMAN DR  THUNDER BAY    ON     P7K 1H3  Canada   \n",
            "10058     900 Block OLIVER RD  THUNDER BAY    ON     P7B 6V4  Canada   \n",
            "10059     900 Block OLIVER RD  THUNDER BAY    ON     P7B 6V4  Canada   \n",
            "\n",
            "                                            incidentType parentIncidentType  \\\n",
            "0       TBPS] TEST EVENT FOR POLICE TEST EVENT FOR PO...              Other   \n",
            "1             TBPS] WEAPONS CODE 1 SUSPECT STILL PRESENT              Other   \n",
            "2       TBPS] DOMESTIC DISPUTE IF WEAPONS, UPGRADE TO...              Other   \n",
            "3             TBPS] WEAPONS CODE 1 SUSPECT STILL PRESENT              Other   \n",
            "4                     TBPS] ALARM BUSINESS - AFTER HOURS              Other   \n",
            "...                                                  ...                ...   \n",
            "10055              TBPS] ASSAULT SUSP PRESENT OR IN AREA            Assault   \n",
            "10056   TBPS] LIQUOR LICENCE ACT LIQUOR LICENCE ACT V...    Quality of Life   \n",
            "10057                    TBPS] FOLLOW-UP CHECKS REQUIRED              Other   \n",
            "10058        TBPS] UNWANTED PERSON NO THREAT OF VIOLENCE              Other   \n",
            "10059   TBPS] SEXUAL ASSAULT JUST OCCURRED, ACCUSED N...              Other   \n",
            "\n",
            "                   narrative         CITY PROVINCE_ABBR  TIME_ZONE   LATITUDE  \\\n",
            "0      TEST EVENT FOR POLICE  THUNDER BAY            ON        6.0  48.412008   \n",
            "1                    WEAPONS  THUNDER BAY            ON        6.0  48.433382   \n",
            "2           DOMESTIC DISPUTE  THUNDER BAY            ON        6.0  48.438704   \n",
            "3                    WEAPONS  THUNDER BAY            ON        6.0  48.457688   \n",
            "4                      ALARM  THUNDER BAY            ON        6.0  48.445913   \n",
            "...                      ...          ...           ...        ...        ...   \n",
            "10055                ASSAULT  THUNDER BAY            ON        6.0  48.425267   \n",
            "10056     LIQUOR LICENCE ACT  THUNDER BAY            ON        6.0  48.469039   \n",
            "10057              FOLLOW-UP  THUNDER BAY            ON        6.0  48.367581   \n",
            "10058        UNWANTED PERSON  THUNDER BAY            ON        6.0  48.421674   \n",
            "10059         SEXUAL ASSAULT  THUNDER BAY            ON        6.0  48.421674   \n",
            "\n",
            "       LONGITUDE  \n",
            "0     -89.258285  \n",
            "1     -89.226267  \n",
            "2     -89.219017  \n",
            "3     -89.185386  \n",
            "4     -89.248385  \n",
            "...          ...  \n",
            "10055 -89.256140  \n",
            "10056 -89.189309  \n",
            "10057 -89.363660  \n",
            "10058 -89.268409  \n",
            "10059 -89.268409  \n",
            "\n",
            "[10060 rows x 16 columns]\n"
          ]
        }
      ]
    },
    {
      "cell_type": "code",
      "source": [
        "#merged_df.to_csv(\"data_table_with_geo.csv\", index=False)"
      ],
      "metadata": {
        "id": "O3-w2cpEmXma"
      },
      "execution_count": 8,
      "outputs": []
    }
  ]
}